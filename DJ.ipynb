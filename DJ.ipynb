{
 "cells": [
  {
   "cell_type": "code",
   "execution_count": 5,
   "id": "9c061a2a-d8d2-454e-8c5b-a6590cb23c90",
   "metadata": {},
   "outputs": [
    {
     "name": "stderr",
     "output_type": "stream",
     "text": [
      "ibmqfactory.load_account:WARNING:2021-12-02 15:02:21,517: Credentials are already in use. The existing account in the session will be replaced.\n"
     ]
    }
   ],
   "source": [
    "import numpy as np\n",
    "\n",
    "# Importing standard Qiskit libraries\n",
    "from qiskit import QuantumCircuit, transpile, Aer, IBMQ, execute\n",
    "from qiskit.tools.jupyter import *\n",
    "from qiskit.visualization import *\n",
    "from ibm_quantum_widgets import *\n",
    "from qiskit.providers.aer import QasmSimulator\n",
    "from qiskit.providers.ibmq import least_busy\n",
    "# Loading your IBM Quantum account(s)\n",
    "provider = IBMQ.load_account()"
   ]
  },
  {
   "cell_type": "code",
   "execution_count": 6,
   "id": "17bb869d-d85e-4b96-9c3f-ef000db40ae2",
   "metadata": {},
   "outputs": [],
   "source": [
    "def dj_oracle(case,n):\n",
    "    \n",
    "    oracle_qc=QuantumCircuit(n+1)\n",
    "    \n",
    "    if case==\"balanced\":\n",
    "        for qubit in range(n):\n",
    "            #creates an oracle that gives a balanced function\n",
    "            #we apply a cnot gate having as control the first n qubits\n",
    "            oracle_qc.cx(qubit,n) \n",
    "            #if we have an even number of 1s we will get the output 0  \n",
    "            #taking the parity of the input bitstring\n",
    "    if case==\"constant\":\n",
    "        output=np.random.randint(2)\n",
    "        if output ==1:\n",
    "            oracle_qc.x(n) #flip ancilla qubit\n",
    "    \n",
    "    oracle_gate=oracle_qc.to_gate()\n",
    "    oracle_gate.name=\"Oracle\"\n",
    "    return oracle_gate\n",
    "    \n",
    "            \n",
    "            \n",
    "            "
   ]
  },
  {
   "cell_type": "code",
   "execution_count": 7,
   "id": "e3b02e22-d936-4a89-852b-ba84031f3e92",
   "metadata": {},
   "outputs": [],
   "source": [
    "def dj_algorithm(n, case=\"random\"):\n",
    "    dj_circuit=QuantumCircuit(n+1,n)#n classical bits to store measurment outcomes\n",
    "    #set up the input register\n",
    "    for qubit in range(n):\n",
    "        dj_circuit.h(qubit)\n",
    "    #set up the output qubit (minus state)\n",
    "    dj_circuit.x(n)\n",
    "    dj_circuit.h(n)\n",
    "    \n",
    "    #add the oracle gate to our circuit\n",
    "    if case == \"random\":\n",
    "        random=np.random.randint(2)\n",
    "        if random==0:\n",
    "            case=\"constant\"\n",
    "        else:\n",
    "            case=\"balanced\"\n",
    "    oracle=dj_oracle(case,n)\n",
    "    dj_circuit.append(oracle,range(n+1))\n",
    "    #merform h gates\n",
    "    for i in range(n):\n",
    "        dj_circuit.h(i)\n",
    "        dj_circuit.measure(i,i)#qubit measured and the classical bit on which it will be stored\n",
    "    return dj_circuit    "
   ]
  },
  {
   "cell_type": "code",
   "execution_count": 8,
   "id": "37a569dc-4aff-4e2f-bfa3-d63ae90b3772",
   "metadata": {},
   "outputs": [
    {
     "data": {
      "image/png": "[encoded data removed]",
      "text/plain": [
       "<Figure size 628.397x385.28 with 1 Axes>"
      ]
     },
     "execution_count": 8,
     "metadata": {},
     "output_type": "execute_result"
    }
   ],
   "source": [
    "n=4\n",
    "dj_circuit=dj_algorithm(n)\n",
    "dj_circuit.draw()"
   ]
  },
  {
   "cell_type": "code",
   "execution_count": 9,
   "id": "af34a26a-211e-49ee-9b30-56758c60035d",
   "metadata": {},
   "outputs": [
    {
     "data": {
      "image/png": "[encoded data removed]",
      "text/plain": [
       "<Figure size 504x360 with 1 Axes>"
      ]
     },
     "execution_count": 9,
     "metadata": {},
     "output_type": "execute_result"
    }
   ],
   "source": [
    "backend=Aer.get_backend('qasm_simulator')\n",
    "shots=1024\n",
    "dj_circuit=dj_algorithm(n,\"constant\")\n",
    "results=execute(dj_circuit, backend=backend, shots=shots).result()\n",
    "answer=results.get_counts()\n",
    "\n",
    "plot_histogram(answer)\n",
    "\n",
    "                    "
   ]
  },
  {
   "cell_type": "code",
   "execution_count": 9,
   "id": "7bfd1649-b065-4760-9fc2-036a17db5e8d",
   "metadata": {},
   "outputs": [
    {
     "name": "stdout",
     "output_type": "stream",
     "text": [
      "least busy backend ibmq_bogota\n"
     ]
    },
    {
     "data": {
      "application/vnd.jupyter.widget-view+json": {
       "model_id": "a8f1c56eb0994bcbb050f27bce237f9b",
       "version_major": 2,
       "version_minor": 0
      },
      "text/plain": [
       "Accordion(children=(VBox(layout=Layout(max_width='710px', min_width='710px')),), layout=Layout(max_height='500…"
      ]
     },
     "metadata": {},
     "output_type": "display_data"
    },
    {
     "data": {
      "application/javascript": [
       "\n",
       "        const isLab = window['Jupyter'] === undefined;\n",
       "        const notebook = document.querySelector( isLab ? 'div.jp-Notebook' : '#site');\n",
       "        const jobWidget = document.querySelector('div.job_widget');\n",
       "        notebook.prepend(jobWidget);\n",
       "        jobWidget.style.zIndex = '999';\n",
       "        jobWidget.style.position = isLab ? 'sticky' : 'fixed';\n",
       "        jobWidget.style.boxShadow = '5px 5px 5px -3px black';\n",
       "        jobWidget.style.opacity = '0.95';\n",
       "        if (isLab) {\n",
       "            jobWidget.style.top = '0';\n",
       "            jobWidget.style.left = '0';\n",
       "        }\n",
       "        "
      ],
      "text/plain": [
       "<IPython.core.display.Javascript object>"
      ]
     },
     "metadata": {},
     "output_type": "display_data"
    }
   ],
   "source": [
    "backend=least_busy(provider.backends(filters= lambda x :x.configuration().n_qubits >= (n+1) and \n",
    "                                     not x.configuration().simulator \n",
    "                                     and x.status().operational==True))\n",
    "print(\"least busy backend\",backend)\n",
    "%qiskit_job_watcher\n",
    "dj_circuit=dj_algorithm(n)\n",
    "job=execute(dj_circuit, backend=backend, shots=shots , optimization_level=3)\n"
   ]
  },
  {
   "cell_type": "code",
   "execution_count": 10,
   "id": "d60f5c2d-8e28-4a9a-bf2a-3de71cf5f4ab",
   "metadata": {},
   "outputs": [
    {
     "data": {
      "image/png": "[encoded data removed]",
      "text/plain": [
       "<Figure size 504x360 with 1 Axes>"
      ]
     },
     "execution_count": 10,
     "metadata": {},
     "output_type": "execute_result"
    }
   ],
   "source": [
    "results=job.result()\n",
    "answer=results.get_counts()\n",
    "plot_histogram(answer)"
   ]
  },
  {
   "cell_type": "code",
   "execution_count": null,
   "id": "12bb0f33-fc8d-43f9-ab3c-0b37e0148885",
   "metadata": {},
   "outputs": [],
   "source": []
  }
 ],
 "metadata": {
  "kernelspec": {
   "display_name": "Qiskit v0.32.1 (ipykernel)",
   "language": "python",
   "name": "python3"
  },
  "language_info": {
   "codemirror_mode": {
    "name": "ipython",
    "version": 3
   },
   "file_extension": ".py",
   "mimetype": "text/x-python",
   "name": "python",
   "nbconvert_exporter": "python",
   "pygments_lexer": "ipython3",
   "version": "3.8.10"
  },
  "widgets": {
   "application/vnd.jupyter.widget-state+json": {
    "state": {
     "026254d58168429fbaf38198ffae05e3": {
      "model_module": "@jupyter-widgets/controls",
      "model_module_version": "1.5.0",
      "model_name": "HTMLModel",
      "state": {
       "layout": "IPY_MODEL_bd8cc8701dd240979c4efa5a75bd418d",
       "style": "IPY_MODEL_aefe68d4734c47718cbd0fcb7f6ad507",
       "value": "<p style='font-family: IBM Plex Sans, Arial, Helvetica, sans-serif; font-size: 20px; font-weight: medium;'>Circuit Properties</p>"
      }
     },
     "0a67ff9297464533b852cf4fcc739928": {
      "model_module": "@jupyter-widgets/controls",
      "model_module_version": "1.5.0",
      "model_name": "DescriptionStyleModel",
      "state": {
       "description_width": ""
      }
     },
     "15bae4996ec945e495ff7733c378cf1a": {
      "model_module": "@jupyter-widgets/controls",
      "model_module_version": "1.5.0",
      "model_name": "HTMLModel",
      "state": {
       "layout": "IPY_MODEL_8f0942f83e8945e1aa89513ed755189f",
       "style": "IPY_MODEL_72bf515639b340cb89c00a18f3b4e08d",
       "value": "<h5>Job ID</h5>"
      }
     },
     "1e914955ff394b4c85cb51b44821e46c": {
      "model_module": "@jupyter-widgets/controls",
      "model_module_version": "1.5.0",
      "model_name": "ButtonModel",
      "state": {
       "button_style": "primary",
       "description": "Clear",
       "layout": "IPY_MODEL_fa3155ebafd24ec8804e1c1035017a71",
       "style": "IPY_MODEL_f20e35ad5d09428fbeb771ac09e132fe"
      }
     },
     "23c9569cd5704d0784357a37a6067a98": {
      "model_module": "@jupyter-widgets/base",
      "model_module_version": "1.2.0",
      "model_name": "LayoutModel",
      "state": {
       "margin": "0px 0px 0px 37px",
       "width": "600px"
      }
     },
     "48739989e1694f8b9aa00f8ba911d296": {
      "model_module": "@jupyter-widgets/controls",
      "model_module_version": "1.5.0",
      "model_name": "HBoxModel",
      "state": {
       "children": [
        "IPY_MODEL_15bae4996ec945e495ff7733c378cf1a",
        "IPY_MODEL_ec1c26c016064671a3336cb067d2f9b4",
        "IPY_MODEL_8b04c529b01a4078be014f785a84b6ba",
        "IPY_MODEL_ec8182f6bf6f48fb985832a2e12f961c",
        "IPY_MODEL_77b56d6e14874c959c07c771d43ad5b8"
       ],
       "layout": "IPY_MODEL_23c9569cd5704d0784357a37a6067a98"
      }
     },
     "4e4295d9c48846daa1caca5869865237": {
      "model_module": "@jupyter-widgets/base",
      "model_module_version": "1.2.0",
      "model_name": "LayoutModel",
      "state": {
       "width": "95px"
      }
     },
     "4ee78ad176494a74800a1baf657ff7f4": {
      "model_module": "@jupyter-widgets/controls",
      "model_module_version": "1.5.0",
      "model_name": "GridBoxModel",
      "state": {
       "children": [
        "IPY_MODEL_1e914955ff394b4c85cb51b44821e46c"
       ],
       "layout": "IPY_MODEL_f71025c199fb455c9bc14342b2b287db"
      }
     },
     "61709baa61d04bc4ba9e4a2e93e55e79": {
      "model_module": "@jupyter-widgets/base",
      "model_module_version": "1.2.0",
      "model_name": "LayoutModel",
      "state": {
       "width": "145px"
      }
     },
     "72bf515639b340cb89c00a18f3b4e08d": {
      "model_module": "@jupyter-widgets/controls",
      "model_module_version": "1.5.0",
      "model_name": "DescriptionStyleModel",
      "state": {
       "description_width": ""
      }
     },
     "76924c74d2b648d7a7701c90a543c131": {
      "model_module": "@jupyter-widgets/controls",
      "model_module_version": "1.5.0",
      "model_name": "DescriptionStyleModel",
      "state": {
       "description_width": ""
      }
     },
     "77b56d6e14874c959c07c771d43ad5b8": {
      "model_module": "@jupyter-widgets/controls",
      "model_module_version": "1.5.0",
      "model_name": "HTMLModel",
      "state": {
       "layout": "IPY_MODEL_f07aacd360fa4932b77826ac15d07706",
       "style": "IPY_MODEL_c9d981470255447da3510b457af0c4fb",
       "value": "<h5>Message</h5>"
      }
     },
     "8b04c529b01a4078be014f785a84b6ba": {
      "model_module": "@jupyter-widgets/controls",
      "model_module_version": "1.5.0",
      "model_name": "HTMLModel",
      "state": {
       "layout": "IPY_MODEL_4e4295d9c48846daa1caca5869865237",
       "style": "IPY_MODEL_76924c74d2b648d7a7701c90a543c131",
       "value": "<h5>Status</h5>"
      }
     },
     "8c6ea5aae77f445d87a9cfa26f5ffcf2": {
      "model_module": "@jupyter-widgets/controls",
      "model_module_version": "1.5.0",
      "model_name": "DescriptionStyleModel",
      "state": {
       "description_width": ""
      }
     },
     "8f0942f83e8945e1aa89513ed755189f": {
      "model_module": "@jupyter-widgets/base",
      "model_module_version": "1.2.0",
      "model_name": "LayoutModel",
      "state": {
       "width": "190px"
      }
     },
     "aefe68d4734c47718cbd0fcb7f6ad507": {
      "model_module": "@jupyter-widgets/controls",
      "model_module_version": "1.5.0",
      "model_name": "DescriptionStyleModel",
      "state": {
       "description_width": ""
      }
     },
     "b35f3228222f456c945af94a264a7143": {
      "model_module": "@jupyter-widgets/base",
      "model_module_version": "1.2.0",
      "model_name": "LayoutModel",
      "state": {
       "width": "70px"
      }
     },
     "bd8cc8701dd240979c4efa5a75bd418d": {
      "model_module": "@jupyter-widgets/base",
      "model_module_version": "1.2.0",
      "model_name": "LayoutModel",
      "state": {
       "margin": "0px 0px 10px 0px"
      }
     },
     "c9d981470255447da3510b457af0c4fb": {
      "model_module": "@jupyter-widgets/controls",
      "model_module_version": "1.5.0",
      "model_name": "DescriptionStyleModel",
      "state": {
       "description_width": ""
      }
     },
     "ec1c26c016064671a3336cb067d2f9b4": {
      "model_module": "@jupyter-widgets/controls",
      "model_module_version": "1.5.0",
      "model_name": "HTMLModel",
      "state": {
       "layout": "IPY_MODEL_61709baa61d04bc4ba9e4a2e93e55e79",
       "style": "IPY_MODEL_0a67ff9297464533b852cf4fcc739928",
       "value": "<h5>Backend</h5>"
      }
     },
     "ec8182f6bf6f48fb985832a2e12f961c": {
      "model_module": "@jupyter-widgets/controls",
      "model_module_version": "1.5.0",
      "model_name": "HTMLModel",
      "state": {
       "layout": "IPY_MODEL_b35f3228222f456c945af94a264a7143",
       "style": "IPY_MODEL_8c6ea5aae77f445d87a9cfa26f5ffcf2",
       "value": "<h5>Queue</h5>"
      }
     },
     "f07aacd360fa4932b77826ac15d07706": {
      "model_module": "@jupyter-widgets/base",
      "model_module_version": "1.2.0",
      "model_name": "LayoutModel",
      "state": {}
     },
     "f20e35ad5d09428fbeb771ac09e132fe": {
      "model_module": "@jupyter-widgets/controls",
      "model_module_version": "1.5.0",
      "model_name": "ButtonStyleModel",
      "state": {}
     },
     "f71025c199fb455c9bc14342b2b287db": {
      "model_module": "@jupyter-widgets/base",
      "model_module_version": "1.2.0",
      "model_name": "LayoutModel",
      "state": {
       "grid_template_areas": "\n                                       \". . . . right \"\n                                        ",
       "grid_template_columns": "20% 20% 20% 20% 20%",
       "width": "100%"
      }
     },
     "fa3155ebafd24ec8804e1c1035017a71": {
      "model_module": "@jupyter-widgets/base",
      "model_module_version": "1.2.0",
      "model_name": "LayoutModel",
      "state": {
       "grid_area": "right",
       "padding": "0px 0px 0px 0px",
       "width": "70px"
      }
     }
    },
    "version_major": 2,
    "version_minor": 0
   }
  }
 },
 "nbformat": 4,
 "nbformat_minor": 5
}
